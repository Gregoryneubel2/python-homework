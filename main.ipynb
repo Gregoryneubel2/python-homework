{
 "cells": [
  {
   "cell_type": "code",
   "execution_count": 31,
   "id": "0e1475ce-4da9-40ac-a9a4-be28082d71e1",
   "metadata": {},
   "outputs": [],
   "source": [
    "# Import the pathlib and csv library\n",
    "from pathlib import Path\n",
    "import csv\n"
   ]
  },
  {
   "cell_type": "code",
   "execution_count": 32,
   "id": "6afe694e-5fae-4a03-b6c1-1b4cb59dea71",
   "metadata": {},
   "outputs": [],
   "source": [
    "# Set the file path\n",
    "csvpath = Path('./budget_data.csv')\n"
   ]
  },
  {
   "cell_type": "code",
   "execution_count": 33,
   "id": "3ed4364c-3af0-4520-b4bd-f071ecdaddb3",
   "metadata": {},
   "outputs": [],
   "source": [
    "# inputing variable data list \n",
    "budget_data = []\n",
    "\n",
    "# opening as well as reading the buget data and saving both list to the data list.\n",
    "with open(csvpath,'r') as budget_data_csv:\n",
    "    next(budget_data_csv)\n",
    "    for budget_row in csv.reader(budget_data_csv):\n",
    "        budget_data.append([budget_row[0],int(budget_row[1])]) "
   ]
  },
  {
   "cell_type": "code",
   "execution_count": 34,
   "id": "0497d335-f137-4610-af03-e5298ba4a53b",
   "metadata": {},
   "outputs": [
    {
     "name": "stdout",
     "output_type": "stream",
     "text": [
      "[['Jan-2010', 867884], ['Feb-2010', 984655], ['Mar-2010', 322013], ['Apr-2010', -69417], ['May-2010', 310503]]\n",
      "[['Oct-2016', 102685], ['Nov-2016', 795914], ['Dec-2016', 60988], ['Jan-2017', 138230], ['Feb-2017', 671099]]\n"
     ]
    }
   ],
   "source": [
    "# formatting the values of the data list \n",
    "\n",
    "print(budget_data[:5])\n",
    "print(budget_data[-5:])"
   ]
  },
  {
   "cell_type": "code",
   "execution_count": 35,
   "id": "eb562cb8-6005-42e5-8f19-202ff245d2e9",
   "metadata": {},
   "outputs": [],
   "source": [
    "# Variable change list \n",
    "profit_losses_changes=[]\n",
    "len(budget_data)\n",
    "\n",
    "# looping indexes in the range of 85\n",
    "for index in range(85):\n",
    "    \n",
    "    #subtract day 1 from day 2 profit/losses\n",
    "    day_1=budget_data[index][1]\n",
    "    day_2=budget_data[index+1][1]\n",
    "    daily_change=day_2-day_1\n",
    "    profit_losses_changes.append(daily_change)\n",
    "    "
   ]
  },
  {
   "cell_type": "code",
   "execution_count": 36,
   "id": "d86f666d-dc55-4246-a868-bd49ea12a016",
   "metadata": {},
   "outputs": [
    {
     "name": "stdout",
     "output_type": "stream",
     "text": [
      "[116771, -662642, -391430, 379920, 212354]\n",
      "[-665765, 693229, -734926, 77242, 532869]\n"
     ]
    }
   ],
   "source": [
    "# Listing the values of the change list. \n",
    "print(profit_losses_changes[:5])\n",
    "print(profit_losses_changes[-5:])"
   ]
  },
  {
   "cell_type": "code",
   "execution_count": 37,
   "id": "8455e637-371a-4765-a50f-11fe4d81e17b",
   "metadata": {},
   "outputs": [],
   "source": [
    "# Listing total number of months included in the budget data.\n",
    "month_total=len(budget_data)\n",
    "\n",
    "# Ouput total amount of profit and losses during entire period.\n",
    "net_total=sum(row[1] for row in budget_data)\n",
    "\n",
    "# Average change in profit and losses total during entire period.\n",
    "average_change=sum(profit_losses_changes)/len(profit_losses_changes)\n",
    "\n",
    "# Greatest increase in profit eniter period. \n",
    "greatest_change_profit=max(profit_losses_changes)\n",
    "\n",
    "# Greatest change in decreased profits entire period\n",
    "greatest_change_decrease=min(profit_losses_changes)"
   ]
  },
  {
   "cell_type": "code",
   "execution_count": 38,
   "id": "54424821-1159-4c9f-b747-5486d658597f",
   "metadata": {},
   "outputs": [
    {
     "name": "stdout",
     "output_type": "stream",
     "text": [
      "Financial Analysis\n",
      "----------------------------\n",
      "Total Months: 86\n",
      "Total: $38382578\n",
      "Average Change: $-2315.12\n",
      "Greatest Increase in Profits: Feb-2012 ($1926159)\n",
      "Greatest Decrease in Profits: Sep-2013 ($-2196167)\n"
     ]
    }
   ],
   "source": [
    "# Output List\n",
    "print('Financial Analysis')\n",
    "print('----------------------------')\n",
    "print(f'Total Months: {month_total}')\n",
    "print(f'Total: ${net_total}')\n",
    "print(f'Average Change: ${round(average_change,2)}')\n",
    "print(f'Greatest Increase in Profits: {budget_data[profit_losses_changes.index(greatest_change_profit)+1][0]} (${greatest_change_profit})')\n",
    "print(f'Greatest Decrease in Profits: {budget_data[profit_losses_changes.index(greatest_change_decrease)+1][0]} (${greatest_change_decrease})')"
   ]
  },
  {
   "cell_type": "code",
   "execution_count": 39,
   "id": "ac3ad08f-a585-4a83-a4ba-9ba48efc3997",
   "metadata": {},
   "outputs": [],
   "source": [
    "# Creating text file named financial_analysis.txt\n",
    "with open('financial_analysis.txt','w') as file:\n",
    "    file.write('Financial Analysis\\n')\n",
    "    file.write('----------------------------\\n')\n",
    "    file.write(f'Total Months: {month_total}\\n')\n",
    "    file.write(f'Total: ${net_total}\\n')\n",
    "    file.write(f'Average Change: ${round(average_change,2)}\\n')\n",
    "    file.write(f'Greatest Increase in Profits: {budget_data[profit_losses_changes.index(greatest_change_profit)+1][0]} (${greatest_change_profit})\\n')\n",
    "    file.write(f'Greatest Decrease in Profits: {budget_data[profit_losses_changes.index(greatest_change_decrease)+1][0]} (${greatest_change_decrease})')"
   ]
  },
  {
   "cell_type": "code",
   "execution_count": null,
   "id": "3a041fe6-9f3e-43fe-bd2f-6ae2aefbc38f",
   "metadata": {},
   "outputs": [],
   "source": []
  }
 ],
 "metadata": {
  "kernelspec": {
   "display_name": "Python [conda env:dev]",
   "language": "python",
   "name": "conda-env-dev-py"
  },
  "language_info": {
   "codemirror_mode": {
    "name": "ipython",
    "version": 3
   },
   "file_extension": ".py",
   "mimetype": "text/x-python",
   "name": "python",
   "nbconvert_exporter": "python",
   "pygments_lexer": "ipython3",
   "version": "3.7.13"
  }
 },
 "nbformat": 4,
 "nbformat_minor": 5
}
